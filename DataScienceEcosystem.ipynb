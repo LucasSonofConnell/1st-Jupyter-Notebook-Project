{
 "cells": [
  {
   "cell_type": "markdown",
   "id": "1d8f78ad",
   "metadata": {},
   "source": [
    "# Data Science Tools and Ecosystem"
   ]
  },
  {
   "cell_type": "markdown",
   "id": "b36de8fd",
   "metadata": {},
   "source": [
    "In this notebook, Data Science Tools and Ecosystem are summarized."
   ]
  },
  {
   "cell_type": "markdown",
   "id": "e020775f",
   "metadata": {},
   "source": [
    "**Objectives:**\n",
    "\n",
    "* List of popular languages in Data Science\n",
    "\n",
    "* List of libraries used in Data Science\n",
    "\n",
    "* List of Data Science Tools\n",
    "\n",
    "* Arthmetic Expession \n",
    "\n",
    "* Turning Minutes into Hours"
   ]
  },
  {
   "cell_type": "markdown",
   "id": "1ca4330d",
   "metadata": {},
   "source": [
    "Some of the popular languages that Data Scientists use are:\n",
    "\n",
    "1. Python\n",
    "2. Juila\n",
    "3. Java"
   ]
  },
  {
   "cell_type": "markdown",
   "id": "bab61972",
   "metadata": {},
   "source": [
    "Some of the commonly used libraries used by Data Scientists include:\n",
    "\n",
    "1. Numpy\n",
    "2. Scipy\n",
    "3. Pandas"
   ]
  },
  {
   "cell_type": "markdown",
   "id": "637f8386",
   "metadata": {},
   "source": [
    "| Data Science Tools |\n",
    "-----\n",
    "|Jupyter Note Book |\n",
    "|Python|\n",
    "|SQL |"
   ]
  },
  {
   "cell_type": "markdown",
   "id": "8d548a3b",
   "metadata": {},
   "source": [
    "### Below are a few examples of evaluating arithmetic expressions in Python"
   ]
  },
  {
   "cell_type": "markdown",
   "id": "84ea6c05",
   "metadata": {},
   "source": [
    "This a simple arithmetic expression to mutiply then add integers"
   ]
  },
  {
   "cell_type": "code",
   "execution_count": 1,
   "id": "fcbc4735",
   "metadata": {},
   "outputs": [
    {
     "data": {
      "text/plain": [
       "17"
      ]
     },
     "execution_count": 1,
     "metadata": {},
     "output_type": "execute_result"
    }
   ],
   "source": [
    "(3*4)+5"
   ]
  },
  {
   "cell_type": "markdown",
   "id": "1b040c23",
   "metadata": {},
   "source": [
    "This will convert 200 minutes to hours by diving by 60"
   ]
  },
  {
   "cell_type": "code",
   "execution_count": 3,
   "id": "89f2052b",
   "metadata": {},
   "outputs": [
    {
     "data": {
      "text/plain": [
       "3.3333333333333335"
      ]
     },
     "execution_count": 3,
     "metadata": {},
     "output_type": "execute_result"
    }
   ],
   "source": [
    "200/60"
   ]
  },
  {
   "cell_type": "markdown",
   "id": "26800780",
   "metadata": {},
   "source": [
    "## Author\n",
    "\n",
    "Lucas McConnell"
   ]
  },
  {
   "cell_type": "code",
   "execution_count": null,
   "id": "b980e592",
   "metadata": {},
   "outputs": [],
   "source": []
  }
 ],
 "metadata": {
  "kernelspec": {
   "display_name": "Python 3 (ipykernel)",
   "language": "python",
   "name": "python3"
  },
  "language_info": {
   "codemirror_mode": {
    "name": "ipython",
    "version": 3
   },
   "file_extension": ".py",
   "mimetype": "text/x-python",
   "name": "python",
   "nbconvert_exporter": "python",
   "pygments_lexer": "ipython3",
   "version": "3.11.7"
  }
 },
 "nbformat": 4,
 "nbformat_minor": 5
}
